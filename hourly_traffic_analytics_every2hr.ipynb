{
 "cells": [
  {
   "cell_type": "markdown",
   "metadata": {},
   "source": [
    "# Hourly Traffic Analytics for 6 Camps"
   ]
  },
  {
   "cell_type": "markdown",
   "metadata": {},
   "source": [
    "### TODOs\n",
    "- convert Active Time to hours\n",
    "- create visualization with 2 y-axes including: 1.# of devices and 2.Active Time in hours/minutes, x-axis is 2hr time chunks"
   ]
  },
  {
   "cell_type": "code",
   "execution_count": 38,
   "metadata": {},
   "outputs": [],
   "source": [
    "import pandas as pd\n",
    "import numpy as np\n",
    "import seaborn as sns\n",
    "import matplotlib.pyplot as plt\n",
    "import json\n",
    "import requests\n",
    "\n",
    "#--For importing Files--\n",
    "import glob\n",
    "import os\n",
    "\n",
    "#--For Meraki--\n",
    "from meraki import meraki\n",
    "import json\n",
    "from ipaddress import ip_address\n",
    "import re\n",
    "import warnings"
   ]
  },
  {
   "cell_type": "code",
   "execution_count": 54,
   "metadata": {},
   "outputs": [],
   "source": [
    "file = 'Data/even_hourly_traffic_analytics_Apr_four_thru_five/*.csv'"
   ]
  },
  {
   "cell_type": "code",
   "execution_count": 3,
   "metadata": {},
   "outputs": [],
   "source": [
    "camp_lst = ['Moria', 'Nea', 'Vathi', 'Skaram', 'Kos', 'Veria']\n",
    "#     date_lst = ['040519', '040619', '040719', '040819', '040919', '041019', '041119']\n",
    "\n",
    "globbed_files = glob.glob(file) #create a list of all csv files\n",
    "data = [] \n",
    "for file in globbed_files:\n",
    "\n",
    "    frame = pd.read_csv(file)\n",
    "    frame['filename'] = os.path.basename(file)\n",
    "#         frame['date'] = date\n",
    "#         frame['Time'] = time    \n",
    "    data.append(frame)\n",
    "\n",
    "app_usage = pd.concat(data, ignore_index=True)\n",
    "\n",
    "    \n",
    "#--Add camp name-\n",
    "camp_list = list(app_usage['filename'].unique())\n",
    "s = '(' + '|'.join(camp_lst) + ')'\n",
    "app_usage['camp_name'] = app_usage['filename'].str.extract(s, expand=False)\n",
    "\n",
    "app_usage['hour'] = 0\n",
    "\n",
    "app_usage['hour'] = app_usage['filename'].str.extract(\"(\\d+)\", expand=True)\n",
    "\n",
    "\n",
    "\n",
    "# df[\"B\"] = df[\"A\"].str.extract(\"(\\d*\\.?\\d+)\", expand=True)\n",
    "\n",
    "# m = app_usage['filename'].extract('(\\d+)')\n",
    "# app_usage['hour'] = app_usage['filename'].str.extract(r'(\\d+)')\n",
    "\n",
    "\n",
    "# app_usage['hour'] = app_usage['filename'].str.extract('(\\d+)', expand=False)\n",
    "# data['active_time_num'] = data['Active time'].str.extract('(\\d+)')\n",
    "\n",
    "# #--Add time--\n",
    "# date_list = list(app_usage['filename'].unique())\n",
    "# s = '(' + '|'.join(date_lst) + ')'\n",
    "# app_usage['date'] = app_usage['filename'].str.extract(s, expand=False)\n",
    "# app_usage['date'] = app_usage['date'].astype(str).astype(int)\n",
    "\n",
    "# globbed_files"
   ]
  },
  {
   "cell_type": "code",
   "execution_count": 56,
   "metadata": {},
   "outputs": [
    {
     "data": {
      "text/plain": [
       "72"
      ]
     },
     "execution_count": 56,
     "metadata": {},
     "output_type": "execute_result"
    }
   ],
   "source": [
    "len(globbed_files)"
   ]
  },
  {
   "cell_type": "code",
   "execution_count": 2,
   "metadata": {},
   "outputs": [],
   "source": [
    "data = app_usage.copy()\n",
    "data"
   ]
  },
  {
   "cell_type": "code",
   "execution_count": null,
   "metadata": {},
   "outputs": [],
   "source": [
    "def make_df(files):\n",
    "    camp_lst = ['Moria', 'Nea', 'Vathi', 'Skaram', 'Kos', 'Veria']\n",
    "#     date_lst = ['040519', '040619', '040719', '040819', '040919', '041019', '041119']\n",
    "    \n",
    "    globbed_files = glob.glob(files) #create a list of all csv files\n",
    "    data = [] \n",
    "    for file in globbed_files:\n",
    "\n",
    "        frame = pd.read_csv(file)\n",
    "        frame['filename'] = os.path.basename(file)\n",
    "#         frame['date'] = date\n",
    "#         frame['Time'] = time    \n",
    "        data.append(frame)\n",
    "    \n",
    "    app_usage = pd.concat(data, ignore_index=True)\n",
    "    \n",
    "    #--Add camp name-\n",
    "    camp_list = list(app_usage['filename'].unique())\n",
    "    s = '(' + '|'.join(camp_lst) + ')'\n",
    "    app_usage['camp_name'] = app_usage['filename'].str.extract(s, expand=False)\n",
    "    \n",
    "    #--Add date--\n",
    "    date_list = list(app_usage['filename'].unique())\n",
    "    s = '(' + '|'.join(date_lst) + ')'\n",
    "    app_usage['date'] = app_usage['filename'].str.extract(s, expand=False)\n",
    "    app_usage['date'] = app_usage['date'].astype(str).astype(int)\n",
    "    \n",
    "    return app_usage"
   ]
  },
  {
   "cell_type": "code",
   "execution_count": 45,
   "metadata": {
    "scrolled": true
   },
   "outputs": [
    {
     "name": "stderr",
     "output_type": "stream",
     "text": [
      "/anaconda3/lib/python3.6/site-packages/ipykernel_launcher.py:40: SettingWithCopyWarning: \n",
      "A value is trying to be set on a copy of a slice from a DataFrame.\n",
      "Try using .loc[row_indexer,col_indexer] = value instead\n",
      "\n",
      "See the caveats in the documentation: http://pandas.pydata.org/pandas-docs/stable/indexing.html#indexing-view-versus-copy\n",
      "/anaconda3/lib/python3.6/site-packages/ipykernel_launcher.py:41: SettingWithCopyWarning: \n",
      "A value is trying to be set on a copy of a slice from a DataFrame.\n",
      "Try using .loc[row_indexer,col_indexer] = value instead\n",
      "\n",
      "See the caveats in the documentation: http://pandas.pydata.org/pandas-docs/stable/indexing.html#indexing-view-versus-copy\n"
     ]
    }
   ],
   "source": [
    "#--Clean Active time, give consistent values in minutes--\n",
    "data['ActiveTime_Minutes'] = 0\n",
    "\n",
    "#--get increment\n",
    "data['active_time_increment'] = data['Active time'].str.replace('\\d+', '') \n",
    "data['active_time_increment'] = data['active_time_increment'].str.replace('.', '')\n",
    "\n",
    "#--get amount--\n",
    "# try:\n",
    "#     data['active_time_num'] = data['Active time'].str.extract('(\\d+\\.\\d+)')\n",
    "# except:\n",
    "\n",
    "\n",
    "### -- TODO: Fix line below, it only gets int, need to get both int and float numbers--\n",
    "data['active_time_num'] = data['Active time'].str.extract('(\\d+)')\n",
    "\n",
    "\n",
    "data['active_time_num'] = data['active_time_num'].astype(str).astype(int)\n",
    "# data\n",
    "\n",
    "#--Loop through this list--\n",
    "unique_vals = list(data['active_time_increment'].unique())\n",
    "\n",
    "#--to get to minutes--\n",
    "hour = 60\n",
    "day = 24*60\n",
    "week = 7*day\n",
    "month = 30.3*day\n",
    "year = 365*day\n",
    "\n",
    "#Source: https://stackoverflow.com/questions/33769860/pandas-apply-but-only-for-rows-where-a-condition-is-met\n",
    "#Source: https://stackoverflow.com/questions/10715519/conditionally-fill-column-values-based-on-another-columns-value-in-pandas\n",
    "hr = data[data['active_time_increment'].str.contains('hour')] \n",
    "dy = data[data['active_time_increment'].str.contains('day')]\n",
    "wk = data[data['active_time_increment'].str.contains('week')]\n",
    "mon = data[data['active_time_increment'].str.contains('month')] \n",
    "\n",
    "#--Add minutes for each row--\n",
    "hr['ActiveTime_Minutes'] = hour*hr['active_time_num']\n",
    "dy['ActiveTime_Minutes'] = day*dy['active_time_num']\n",
    "wk['ActiveTime_Minutes'] = week*wk['active_time_num']\n",
    "mon['ActiveTime_Minutes'] = month*mon['active_time_num']\n",
    "\n",
    "traffic = pd.concat([hr,dy,wk,mon])"
   ]
  },
  {
   "cell_type": "code",
   "execution_count": 1,
   "metadata": {},
   "outputs": [],
   "source": [
    "# traffic"
   ]
  },
  {
   "cell_type": "code",
   "execution_count": null,
   "metadata": {},
   "outputs": [],
   "source": []
  }
 ],
 "metadata": {
  "kernelspec": {
   "display_name": "Python 3",
   "language": "python",
   "name": "python3"
  },
  "language_info": {
   "codemirror_mode": {
    "name": "ipython",
    "version": 3
   },
   "file_extension": ".py",
   "mimetype": "text/x-python",
   "name": "python",
   "nbconvert_exporter": "python",
   "pygments_lexer": "ipython3",
   "version": "3.6.7"
  }
 },
 "nbformat": 4,
 "nbformat_minor": 4
}
